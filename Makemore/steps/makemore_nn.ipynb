{
 "cells": [
  {
   "cell_type": "code",
   "execution_count": 694,
   "id": "d9dbe3e4",
   "metadata": {},
   "outputs": [],
   "source": [
    "# Construct the bigram training set\n",
    "\n",
    "import torch\n",
    "import torch.nn.functional as F\n",
    "\n",
    "words = open(\"../data/names.txt\", \"r\").read().splitlines()\n",
    "alphabet = sorted(list(set(\"\".join(words))))\n",
    "LIMITER=\".\"\n",
    "\n",
    "atoi = {s:i+1 for i,s in enumerate(alphabet)}\n",
    "atoi[LIMITER] = 0\n",
    "\n",
    "itoa = {i:s for s,i in atoi.items()}\n",
    "\n",
    "C = len(atoi)\n",
    "N = torch.zeros((C, C), dtype=torch.int32)\n",
    "\n",
    "xs, ys = [], []\n",
    "\n",
    "for w in words:\n",
    "    chs = [LIMITER] + list(w) + [LIMITER]\n",
    "    for ch1, ch2, in zip(chs, chs[1:]):\n",
    "        i1 = atoi[ch1]\n",
    "        i2 = atoi[ch2]\n",
    "        xs.append(i1)\n",
    "        ys.append(i2)\n",
    "\n",
    "xs = torch.tensor(xs, dtype=torch.long)\n",
    "ys = torch.tensor(ys, dtype=torch.long)\n",
    "\n",
    "# Total Bigrams\n",
    "total = xs.nelement()"
   ]
  },
  {
   "cell_type": "code",
   "execution_count": 695,
   "id": "959dc244",
   "metadata": {},
   "outputs": [],
   "source": [
    "# Intialize a 27x27 weight matrix. 27 neurons and 27 activations for each letter of the alphabet\n",
    "W = torch.randn(C, C, requires_grad=True).float()\n",
    "\n",
    "# Vectorize Onehot\n",
    "xenc = F.one_hot(xs, num_classes=C).float()"
   ]
  },
  {
   "cell_type": "code",
   "execution_count": 696,
   "id": "a9415998",
   "metadata": {},
   "outputs": [
    {
     "name": "stdout",
     "output_type": "stream",
     "text": [
      "tensor(3.8206, grad_fn=<AddBackward0>)\n",
      "tensor(2.5763, grad_fn=<AddBackward0>)\n",
      "tensor(2.5190, grad_fn=<AddBackward0>)\n",
      "tensor(2.5026, grad_fn=<AddBackward0>)\n",
      "tensor(2.4948, grad_fn=<AddBackward0>)\n"
     ]
    }
   ],
   "source": [
    "for i in range(500):\n",
    "    # === Forward ===\n",
    "    logits = xenc @ W\n",
    "\n",
    "    c = logits.exp()\n",
    "    probs = c / c.sum(1, keepdim=True)\n",
    "\n",
    "    regularization_term = (0.01 * (W**2).mean())\n",
    "    loss = -(probs[torch.arange(xs.nelement()), ys].log().mean())\n",
    "\n",
    "    total_loss = loss + regularization_term\n",
    "\n",
    "    if i % 100 == 0:\n",
    "        print(total_loss)\n",
    "\n",
    "    # === Backward ===\n",
    "    W.grad = None\n",
    "    total_loss.backward()\n",
    "\n",
    "    W.data -= 10 * W.grad"
   ]
  },
  {
   "cell_type": "code",
   "execution_count": 697,
   "id": "953da614",
   "metadata": {},
   "outputs": [
    {
     "name": "stdout",
     "output_type": "stream",
     "text": [
      "kyason\n",
      "kanana\n",
      "milaveela\n",
      "ra\n",
      "drisan\n",
      "lurtolisyrsh\n",
      "tobay\n",
      "n\n",
      "myaeahare\n",
      "chucinailelulelone\n"
     ]
    }
   ],
   "source": [
    "\n",
    "g = torch.Generator().manual_seed(1234)\n",
    "for i in range(10):\n",
    "    out = []\n",
    "    ix = 0\n",
    "    while(True):\n",
    "        xenc = F.one_hot(torch.tensor([ix]), num_classes=27).float()\n",
    "        logits = xenc @ W\n",
    "        lc = logits.exp()\n",
    "        probs = lc / lc.sum(1, keepdim=True)\n",
    "\n",
    "        ix = torch.multinomial(probs, num_samples=1, replacement=True, generator=g).item()\n",
    "\n",
    "        ch = itoa[ix]\n",
    "        out.append(ch)\n",
    "        if ch == LIMITER:\n",
    "            break\n",
    "\n",
    "    print((\"\".join(out))[:-1])"
   ]
  }
 ],
 "metadata": {
  "kernelspec": {
   "display_name": ".venv",
   "language": "python",
   "name": "python3"
  },
  "language_info": {
   "codemirror_mode": {
    "name": "ipython",
    "version": 3
   },
   "file_extension": ".py",
   "mimetype": "text/x-python",
   "name": "python",
   "nbconvert_exporter": "python",
   "pygments_lexer": "ipython3",
   "version": "3.13.5"
  }
 },
 "nbformat": 4,
 "nbformat_minor": 5
}
